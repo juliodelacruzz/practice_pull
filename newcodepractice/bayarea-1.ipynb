{
 "cells": [
  {
   "cell_type": "code",
   "execution_count": 1,
   "metadata": {},
   "outputs": [
    {
     "name": "stdout",
     "output_type": "stream",
     "text": [
      "niners for the superbowl!!!\n",
      "too bad goldenstate sucks\n"
     ]
    }
   ],
   "source": [
    "print('niners for the superbowl!!!')\n",
    "print('too bad goldenstate sucks')"
   ]
  }
 ],
 "metadata": {
  "kernelspec": {
   "display_name": "dev50",
   "language": "python",
   "name": "python3"
  },
  "language_info": {
   "codemirror_mode": {
    "name": "ipython",
    "version": 3
   },
   "file_extension": ".py",
   "mimetype": "text/x-python",
   "name": "python",
   "nbconvert_exporter": "python",
   "pygments_lexer": "ipython3",
   "version": "3.12.0"
  }
 },
 "nbformat": 4,
 "nbformat_minor": 2
}
